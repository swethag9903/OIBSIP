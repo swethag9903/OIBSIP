{
  "nbformat": 4,
  "nbformat_minor": 0,
  "metadata": {
    "colab": {
      "provenance": []
    },
    "kernelspec": {
      "name": "python3",
      "display_name": "Python 3"
    },
    "language_info": {
      "name": "python"
    }
  },
  "cells": [
    {
      "cell_type": "code",
      "execution_count": null,
      "metadata": {
        "colab": {
          "base_uri": "https://localhost:8080/",
          "height": 1000
        },
        "id": "6n5EyQyvLXfa",
        "outputId": "d2326560-9019-4b86-f6db-7efbb8f129f6"
      },
      "outputs": [
        {
          "output_type": "stream",
          "name": "stdout",
          "text": [
            "Dataset 1 Preview:\n",
            "                                           clean_text  category\n",
            "0  when modi promised “minimum government maximum...      -1.0\n",
            "1  talk all the nonsense and continue all the dra...       0.0\n",
            "2  what did just say vote for modi  welcome bjp t...       1.0\n",
            "3  asking his supporters prefix chowkidar their n...       1.0\n",
            "4  answer who among these the most powerful world...       1.0\n",
            "\n",
            "Dataset 1 Columns:  Index(['clean_text', 'category'], dtype='object')\n",
            "Dataset 2 Preview:\n",
            "    Unnamed: 0                                                App  \\\n",
            "0           0     Photo Editor & Candy Camera & Grid & ScrapBook   \n",
            "1           1                                Coloring book moana   \n",
            "2           2  U Launcher Lite – FREE Live Cool Themes, Hide ...   \n",
            "3           3                              Sketch - Draw & Paint   \n",
            "4           4              Pixel Draw - Number Art Coloring Book   \n",
            "\n",
            "         Category  Rating  Reviews  Size     Installs  Type Price  \\\n",
            "0  ART_AND_DESIGN     4.1      159   19M      10,000+  Free     0   \n",
            "1  ART_AND_DESIGN     3.9      967   14M     500,000+  Free     0   \n",
            "2  ART_AND_DESIGN     4.7    87510  8.7M   5,000,000+  Free     0   \n",
            "3  ART_AND_DESIGN     4.5   215644   25M  50,000,000+  Free     0   \n",
            "4  ART_AND_DESIGN     4.3      967  2.8M     100,000+  Free     0   \n",
            "\n",
            "  Content Rating                     Genres      Last Updated  \\\n",
            "0       Everyone               Art & Design   January 7, 2018   \n",
            "1       Everyone  Art & Design;Pretend Play  January 15, 2018   \n",
            "2       Everyone               Art & Design    August 1, 2018   \n",
            "3           Teen               Art & Design      June 8, 2018   \n",
            "4       Everyone    Art & Design;Creativity     June 20, 2018   \n",
            "\n",
            "          Current Ver   Android Ver  \n",
            "0               1.0.0  4.0.3 and up  \n",
            "1               2.0.0  4.0.3 and up  \n",
            "2               1.2.4  4.0.3 and up  \n",
            "3  Varies with device    4.2 and up  \n",
            "4                 1.1    4.4 and up  \n",
            "\n",
            "Dataset 2 Columns:  Index(['Unnamed: 0', 'App', 'Category', 'Rating', 'Reviews', 'Size',\n",
            "       'Installs', 'Type', 'Price', 'Content Rating', 'Genres', 'Last Updated',\n",
            "       'Current Ver', 'Android Ver'],\n",
            "      dtype='object')\n",
            "\n",
            "Cleaning Dataset 1...\n"
          ]
        },
        {
          "output_type": "stream",
          "name": "stderr",
          "text": [
            "<ipython-input-1-6478d07811d0>:31: FutureWarning: \n",
            "\n",
            "Passing `palette` without assigning `hue` is deprecated and will be removed in v0.14.0. Assign the `x` variable to `hue` and set `legend=False` for the same effect.\n",
            "\n",
            "  sns.countplot(data=dataset1, x='category', order=dataset1['category'].value_counts().index, palette='Set2')\n"
          ]
        },
        {
          "output_type": "display_data",
          "data": {
            "text/plain": [
              "<Figure size 800x600 with 1 Axes>"
            ],
            "image/png": "[encoded data removed]"
          },
          "metadata": {}
        },
        {
          "output_type": "stream",
          "name": "stdout",
          "text": [
            "\n",
            "Training Model...\n",
            "\n",
            "Classification Report:\n",
            "               precision    recall  f1-score   support\n",
            "\n",
            "        -1.0       0.69      0.70      0.69      7102\n",
            "         0.0       0.79      0.75      0.77     11042\n",
            "         1.0       0.77      0.80      0.78     14450\n",
            "\n",
            "    accuracy                           0.76     32594\n",
            "   macro avg       0.75      0.75      0.75     32594\n",
            "weighted avg       0.76      0.76      0.76     32594\n",
            "\n",
            "\n",
            "Confusion Matrix:\n",
            " [[ 4941   757  1404]\n",
            " [  673  8280  2089]\n",
            " [ 1534  1392 11524]]\n",
            "\n",
            "Accuracy Score:  0.7591888077560287\n",
            "Unique Categories in Dataset 1:\n",
            " ['-1.0' '0.0' '1.0']\n",
            "\n",
            "Warning: No positive words found.\n",
            "\n",
            "Warning: No negative words found.\n"
          ]
        }
      ],
      "source": [
        "import pandas as pd\n",
        "import numpy as np\n",
        "import matplotlib.pyplot as plt\n",
        "import seaborn as sns\n",
        "from sklearn.model_selection import train_test_split\n",
        "from sklearn.feature_extraction.text import CountVectorizer\n",
        "from sklearn.naive_bayes import MultinomialNB\n",
        "from sklearn.metrics import classification_report, confusion_matrix, accuracy_score\n",
        "from wordcloud import WordCloud\n",
        "\n",
        "dataset1 = pd.read_csv(\"T4_S1_TwitterData.csv\")\n",
        "dataset2 = pd.read_csv(\"T4_S2_apps.csv\")\n",
        "\n",
        "print(\"Dataset 1 Preview:\\n\", dataset1.head())\n",
        "print(\"\\nDataset 1 Columns: \", dataset1.columns)\n",
        "\n",
        "print(\"Dataset 2 Preview:\\n\", dataset2.head())\n",
        "print(\"\\nDataset 2 Columns: \", dataset2.columns)\n",
        "\n",
        "print(\"\\nCleaning Dataset 1...\")\n",
        "dataset1 = dataset1.dropna(subset=['clean_text', 'category'])  # Drop rows with missing values\n",
        "dataset1['category'] = dataset1['category'].astype(str).str.lower()\n",
        "plt.figure(figsize=(8, 6))\n",
        "sns.countplot(data=dataset1, x='category', order=dataset1['category'].value_counts().index, palette='Set2')\n",
        "plt.title(\"Sentiment Category Distribution\")\n",
        "plt.show()\n",
        "\n",
        "vectorizer = CountVectorizer(stop_words='english', max_features=5000)\n",
        "X = vectorizer.fit_transform(dataset1['clean_text']).toarray()\n",
        "y = dataset1['category']\n",
        "\n",
        "X_train, X_test, y_train, y_test = train_test_split(X, y, test_size=0.2, random_state=42, stratify=y)\n",
        "\n",
        "print(\"\\nTraining Model...\")\n",
        "model = MultinomialNB()\n",
        "model.fit(X_train, y_train)\n",
        "\n",
        "y_pred = model.predict(X_test)\n",
        "print(\"\\nClassification Report:\\n\", classification_report(y_test, y_pred))\n",
        "print(\"\\nConfusion Matrix:\\n\", confusion_matrix(y_test, y_pred))\n",
        "print(\"\\nAccuracy Score: \", accuracy_score(y_test, y_pred))\n",
        "\n",
        "print(\"Unique Categories in Dataset 1:\\n\", dataset1['category'].unique())\n",
        "\n",
        "positive_words = \" \".join(dataset1[dataset1['category'].str.contains('positive', case=False, na=False)]['clean_text'])\n",
        "negative_words = \" \".join(dataset1[dataset1['category'].str.contains('negative', case=False, na=False)]['clean_text'])\n",
        "\n",
        "if not positive_words:\n",
        "    print(\"\\nWarning: No positive words found.\")\n",
        "if not negative_words:\n",
        "    print(\"\\nWarning: No negative words found.\")\n",
        "\n",
        "if positive_words:\n",
        "    wordcloud_positive = WordCloud(width=800, height=400, background_color='white').generate(positive_words)\n",
        "    plt.figure(figsize=(10, 5))\n",
        "    plt.imshow(wordcloud_positive, interpolation='bilinear')\n",
        "    plt.title(\"Word Cloud for Positive Sentiment\")\n",
        "    plt.axis('off')\n",
        "    plt.show()\n",
        "\n",
        "if negative_words:\n",
        "    wordcloud_negative = WordCloud(width=800, height=400, background_color='white').generate(negative_words)\n",
        "    plt.figure(figsize=(10, 5))\n",
        "    plt.imshow(wordcloud_negative, interpolation='bilinear')\n",
        "    plt.title(\"Word Cloud for Negative Sentiment\")\n",
        "    plt.axis('off')\n",
        "    plt.show()\n"
      ]
    }
  ]
}